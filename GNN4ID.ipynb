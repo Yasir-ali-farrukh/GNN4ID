{
 "cells": [
  {
   "cell_type": "markdown",
   "id": "b83f2422",
   "metadata": {},
   "source": [
    "## GNN<span style=\"font-size: 1.3em; font-family: Comic Sans MS, Aptos (Body);\">4</span>ID\n",
    "\n",
    "This notebook demonstrates a comprehensive pipeline to convert raw PCAP files into graph data objects suitable for Graph Neural Network (GNN) models. The pipeline extracts flow-level information alongside packet-level details, ultimately producing two primary outputs:\n",
    "\n",
    "1. <u>Extracted Flow-based Features with Packet-Level Information</u>: Detailed flow-based features are extracted, including comprehensive packet-level information.\n",
    "2. <u>Graph Data Objects for GNN Models</u>: Flow-based features and packet-level details are transformed into individual graph data objects, suitable for graph-level predictions using GNN models.\n",
    "\n",
    "This transformation enables the application of GNNs for advanced network traffic analysis and intrusion detection, leveraging the rich information from both flow and packet levels."
   ]
  },
  {
   "cell_type": "code",
   "execution_count": 8,
   "id": "bd3498c5",
   "metadata": {},
   "outputs": [],
   "source": [
    "from utility.functions import *\n",
    "from utility.flow_features import *\n",
    "import tarfile\n",
    "import glob\n",
    "import shutil\n",
    "import subprocess"
   ]
  },
  {
   "cell_type": "markdown",
   "id": "bebc715e",
   "metadata": {},
   "source": [
    "### Extraction of Compressed PCAP Files from the CIC-IoT2023 Dataset\n",
    "\n",
    "For demonstration purposes, we will utilize the CIC-IoT2023 dataset, one of the latest and most comprehensive datasets available for IoT network traffic analysis. You can access and download the dataset from the following link: [CIC-IoT2023 Dataset](https://www.unb.ca/cic/datasets/iotdataset-2023.html).\n",
    "\n",
    "While this example uses the CIC-IoT2023 dataset, any dataset with labeled raw packets can be used. If your PCAP files are not labeled, you can use the tool available at [Payload Byte](https://github.com/Yasir-ali-farrukh/Payload-Byte) for labeling the PCAP files.\n"
   ]
  },
  {
   "cell_type": "code",
   "execution_count": 134,
   "id": "c8ea57cb",
   "metadata": {},
   "outputs": [],
   "source": [
    "# Provide path to the directory where Raw Pcap Files are downloaded\n",
    "# The CIC-IoT2023 Dataset is availble in compressed .tar format\n",
    "Directory = \"F:\\\\CIC IoT Dataset 2023\\\\*.tar.gz\"\n",
    "# Path where you want the extracted PCAP files to be\n",
    "Out_Directory = 'F:\\\\CIC_IOT\\\\Packet_Level_Data'\n",
    "\n",
    "Compressed_files = glob.glob(Directory)"
   ]
  },
  {
   "cell_type": "code",
   "execution_count": 137,
   "id": "0ae781e2",
   "metadata": {},
   "outputs": [],
   "source": [
    "for files in Compressed_files:\n",
    "    file = tarfile.open(files) \n",
    "    file.extractall(Out_Directory)"
   ]
  },
  {
   "cell_type": "markdown",
   "id": "5ad80d50",
   "metadata": {},
   "source": [
    "### Renaming the PCAP Files\n",
    "\n",
    "To facilitate easier differentiation between attack classes during the transformation into graph data objects, it is essential to rename the PCAP files appropriately.\n",
    "\n",
    "**Alternatively:** You can generate a single file containing all data instances along with a \"Label\" column to categorize the instances."
   ]
  },
  {
   "cell_type": "code",
   "execution_count": 138,
   "id": "c1b6b212",
   "metadata": {},
   "outputs": [],
   "source": [
    "name_mapping = {'Benign': 'Benign-Benign' , \n",
    "          'DDoS-ACK_Fragmentation':'DDos-AckFrg', \n",
    "          'DDoS-UDP_Flood':'DDos-UDPFlood',\n",
    "         'DDos-SlowLoris':'DDos-SlowLoris',\n",
    "         'DDoS-ICMP_Flood':'DDos-ICMPFlood',\n",
    "         'DDoS-RSTFINFlood' :'DDos-RSTFIN',\n",
    "         'DDoS-PSHACK_Flood':'DDos-PSHACK',\n",
    "         'DDoS-HTTP_Flood':'DDos-HTTPFlood',\n",
    "         'DDoS-UDP_Fragmentation':'DDos-UDPFrg' ,\n",
    "         'DDoS-ICMP_Fragmentation':'DDos-ICMPFrg',\n",
    "         'DDoS-TCP_Flood':'DDos-TCPFlood',\n",
    "         'DDoS-SYN_Flood':'DDos-SYNFlood',\n",
    "         'DDoS-SynonymousIP_Flood':'DDos-SynonymousIPFlood' ,\n",
    "          'DoS-TCP_Flood':'Dos-TCPFlood',\n",
    "          'DoS-HTTP_Flood':'Dos-HTTPFlood',\n",
    "          'DoS-SYN_Flood':'Dos-SYNFlood',\n",
    "          'DoS-UDP_Flood':'Dos-UDPFlood',\n",
    "          'Recon-PingSweep':'Recon-PingSweep',\n",
    "          'Recon-OSScan':'Recon-OSScan',\n",
    "          'VulnerabilityScan':'Recon-VulScan',\n",
    "          'Recon-PortScan':'Recon-PortScan',\n",
    "          'Recon-HostDiscovery':'Recon-HostDisc',\n",
    "          'SqlInjection':'WebBased-SqlInject',\n",
    "          'CommandInjection':'WebBased-CmmdInject',\n",
    "          'Backdoor_Malware':'WebBased-BckdoorMalware',\n",
    "          'Uploading_Attack':'WebBased-UploadAttack',\n",
    "          'XSS':'WebBased-XSS',\n",
    "          'BrowserHijacking':'Webbased-BrwserHijack',\n",
    "          'DictionaryBruteForce':'BruteForce-Dictionary',\n",
    "          'MITM-ArpSpoofing':'Spoofing-ARP',\n",
    "          'DNS_Spoofing':'Spoofing-DNS',\n",
    "          'Mirai-greip_flood':'Mirai-GREIP',\n",
    "          'Mirai-greeth_flood':'Mirai-Greeth',\n",
    "          'Mirai-udpplain':'Mirai-UDPPlain'\n",
    "         }"
   ]
  },
  {
   "cell_type": "code",
   "execution_count": null,
   "id": "2f654c3d",
   "metadata": {},
   "outputs": [],
   "source": [
    "## Function that rename the files\n",
    "rename_files(Out_Directory, name_mapping)"
   ]
  },
  {
   "cell_type": "markdown",
   "id": "edc5abd8",
   "metadata": {},
   "source": [
    "### Extracting Features from PCAP Files\n",
    "\n",
    "Extraction of flow-level features along with their respective packet-level features from PCAP files.\n",
    "\n",
    "The features are extracted using the `Feature_extractor_flow_packet_combined.py` script. These features can be utilized for various purposes beyond creating graph objects, as they offer complete information about each flow along with its associated packet details.\n"
   ]
  },
  {
   "cell_type": "code",
   "execution_count": null,
   "id": "1c2e64bc",
   "metadata": {},
   "outputs": [],
   "source": [
    "directory = Out_Directory+\"\\**\\*pcap\"\n",
    "List_of_PCAP = glob.glob(directory)\n",
    "\n",
    "Out_path= 'F:/CIC_IOT/' # Directory path where you want the csv files to be saved.\n",
    "feature_Extractor ='/Utility/Feature_extractor_flow_packet_combined.py' # Script for extracting the features from PCAP files\n",
    "\n",
    "for single_pcap_file in List_of_PCAP:\n",
    "    print(\"Reading File: \",os.path.basename(single_pcap_file))\n",
    "    # Running the feature extractor on the command line as sometime it has some issues while running in the notebook due to multi threading. \n",
    "    completed_process =subprocess.run(['python', feature_Extractor, single_pcap_file, Out_path], capture_output=True)\n",
    "    os.remove(single_pcap_file) # Removing the pcap files as processed to save the disk storage\n",
    "    List_of_PCAP.remove(single_pcap_file)\n",
    "    print(\"**Extraction Completed For: \",os.path.basename(single_pcap_file),\"**\")"
   ]
  },
  {
   "cell_type": "markdown",
   "id": "7df213d4",
   "metadata": {},
   "source": [
    "### Transformation into Graph Data Objects\n",
    "Utilizing the extracted flow-level features along with their respective packets, the data object created is a heterogeneous graph consisting of two different types of nodes and two different types of edges. The nodes are:\n",
    "\n",
    "1. Flow Node: Contains all flow-level statistical features.\n",
    "2. Packet Node: Contains payload information transformed into byte-wise values.\n",
    "\n",
    "The two different edges are:\n",
    "\n",
    "1. Contain Edge: Links Flow Nodes and Packet Nodes along with some features.\n",
    "2. Link Edge: Links Packet Nodes together with t-delta as its attribute."
   ]
  },
  {
   "cell_type": "code",
   "execution_count": null,
   "id": "d14abedc",
   "metadata": {},
   "outputs": [],
   "source": [
    "## Dictionary for classifying Classes and Assigning them Class number for reference\n",
    "Dict_x = {'Benign': 0 , \n",
    "          'WebBased': 1, \n",
    "          'Spoofing': 2,\n",
    "          'Recon' : 3,\n",
    "          'Mirai' : 4,\n",
    "          'Dos' : 5,\n",
    "          'DDos' : 6,\n",
    "          'BruteForce': 7\n",
    "         }\n",
    "\n",
    "## Directory where graph data will be stored\n",
    "dir = \"F:/GNN_Project/data/\"\n",
    "## Directory where CSV files(Extracted Flow-level and packet-level inforamtion) is stored\n",
    "Files =glob.glob(Out_path+\"/*.csv\") ## This will list all the files from which graph data objects will be created.\n"
   ]
  },
  {
   "cell_type": "markdown",
   "id": "01b9bb02",
   "metadata": {},
   "source": [
    "Since the CIC-IoT2023 dataset is large and has imbalanced instances of classes, we have performed data processing (over/under sampling) to achieve a balanced dataset for ease of training and to address the imbalance problem. To follow the pre-processing steps, please refer to the notebook: `Data_preprocessing_CIC-IoT2023.ipynb`.\n",
    "\n"
   ]
  },
  {
   "cell_type": "code",
   "execution_count": null,
   "id": "310b4595",
   "metadata": {},
   "outputs": [],
   "source": [
    "## Generation of graph data obejcts.\n",
    "data_Hetero = NIDSDataset(root=dir, label_dict=Dict_x, filename=Files, skip_processing=False, test=True, single_file=True)"
   ]
  },
  {
   "cell_type": "markdown",
   "id": "6cb5adf3",
   "metadata": {},
   "source": [
    "PARAMETERS \n",
    "\n",
    "- **root** (`str`): Root directory where the graph objects should be saved.\n",
    "\n",
    "- **label_dict** (`Dict`): Dictionary for assigning labels to each attack class.\n",
    "\n",
    "- **filename** (`List[str]`): List of CSV file paths to be used for the development of graph objects.\n",
    "\n",
    "- **skip_processing** (`bool`): If set to `True`, skips the generation of graph objects and utilizes the ones present in the root directory. (default: `False`)\n",
    "\n",
    "- **test** (`bool`): If set to `True`, generates data objects for testing by creating data objects with a test suffix. (default: `False`)\n",
    "\n",
    "- **single_file** (`bool`): If set to True, the provided CSV files is a single file with Label column within CSV.  (default: `False`)   \n"
   ]
  }
 ],
 "metadata": {
  "kernelspec": {
   "display_name": "Python 3 (ipykernel)",
   "language": "python",
   "name": "python3"
  },
  "language_info": {
   "codemirror_mode": {
    "name": "ipython",
    "version": 3
   },
   "file_extension": ".py",
   "mimetype": "text/x-python",
   "name": "python",
   "nbconvert_exporter": "python",
   "pygments_lexer": "ipython3",
   "version": "3.11.7"
  }
 },
 "nbformat": 4,
 "nbformat_minor": 5
}
