{
 "cells": [
  {
   "cell_type": "markdown",
   "id": "f4e794c5-bd03-4ded-8e68-609b54779231",
   "metadata": {},
   "source": [
    "### GNNifyID\n",
    "\n",
    "A Pipeline to Convert Raw PCAP Files into two different output.\n",
    "\n",
    "1. Extracted Flow-based features along with their individual packet-level information.\n",
    "2. Data Object for GNN model, trasnforming flow-based features along with packet-level information into individual graph.\n",
    "\n",
    "This transformation can be utilized for a graph level prediction."
   ]
  },
  {
   "cell_type": "code",
   "execution_count": 17,
   "id": "b83ab332-7432-4fe1-8d68-f529d4f1ff79",
   "metadata": {},
   "outputs": [],
   "source": [
    "from utility.functions import *\n",
    "import tarfile \n",
    "import shutil"
   ]
  },
  {
   "cell_type": "markdown",
   "id": "9dbd0b63-3d28-4f85-a159-a2a0569c696f",
   "metadata": {},
   "source": [
    "#### Extraction of Compressed PCAP Files of CIC-IoT2023 Dataset"
   ]
  },
  {
   "cell_type": "code",
   "execution_count": null,
   "id": "bf08d898-feee-4bc1-8160-4a319d37f330",
   "metadata": {},
   "outputs": [],
   "source": [
    "# Provide path to the directory where Raw Pcap Files are downloaded\n",
    "Directory = \"F:\\\\CIC IoT Dataset 2023\\\\*.tar.gz\"\n",
    "# Path where you want the extracted PCAP files to be\n",
    "Out_Directory = 'G:\\\\CIC_IOT\\\\Packet_Level_Data'\n",
    "\n",
    "Compressed_files = glob.glob(Directory)"
   ]
  },
  {
   "cell_type": "code",
   "execution_count": null,
   "id": "0e4a988e-0fe0-46aa-8917-0539ac2fce0f",
   "metadata": {},
   "outputs": [],
   "source": [
    "for files in Compressed_files:\n",
    "    file = tarfile.open(files) \n",
    "    file.extractall(Out_Directory)"
   ]
  },
  {
   "cell_type": "markdown",
   "id": "74f47e03-4541-449f-8e35-771fcc2f057a",
   "metadata": {},
   "source": [
    "#### Renaming the PCAP files\n",
    "\n",
    "Renaming PCAP files so that it is easier to distinguish between attack classes while performing transformation into grapghs. "
   ]
  },
  {
   "cell_type": "code",
   "execution_count": null,
   "id": "96570ccc-745a-4fbf-a7ea-052bb76868d7",
   "metadata": {},
   "outputs": [],
   "source": [
    "name_mapping = {'Benign': 'Benign' , \n",
    "          'DDoS-ACK_Fragmentation':'DDos-AckFrg', \n",
    "          'DDoS-UDP_Flood':'DDos-UDPFlood',\n",
    "         'DDos-SlowLoris':'DDos-SlowLoris',\n",
    "         'DDoS-ICMP_Flood':'DDos-ICMPFlood',\n",
    "         'DDoS-RSTFINFlood' :'DDos-RSTFIN',\n",
    "         'DDoS-PSHACK_Flood':'DDos-PSHACK',\n",
    "         'DDoS-HTTP_Flood':'DDos-HTTPFlood',\n",
    "         'DDoS-UDP_Fragmentation':'DDos-UDPFrg' ,\n",
    "         'NaN':'DDos-ICMPFrg',\n",
    "         'DDoS-TCP_Flood':'DDos-TCPFlood',\n",
    "         'DDoS-SYN_Flood':'DDos-SYNFlood',\n",
    "         'DDoS-SynonymousIP_Flood':'DDos-SynonymousIPFlood' ,\n",
    "          'DoS-TCP_Flood':'Dos-TCPFlood',\n",
    "          'DoS-HTTP_Flood':'Dos-HTTPFlood',\n",
    "          'DoS-SYN_Flood':'Dos-SYNFlood',\n",
    "          'DoS-UDP_Flood':'Dos-UDPFlood',\n",
    "          'Recon-PingSweep':'Recon-PingSweep',\n",
    "          'Recon-OSScan':'Recon-OSScan',\n",
    "          'VulnerabilityScan':'Recon-VulScan',\n",
    "          'Recon-PortScan':'Recon-PortScan',\n",
    "          'Recon-HostDiscovery':'Recon-HostDisc',\n",
    "          'SqlInjection':'WebBased-SqlInject',\n",
    "          'CommandInjection':'WebBased-CmmdInject',\n",
    "          'Backdoor_Malware':'WebBased-BckdoorMalware',\n",
    "          'Uploading_Attack':'WebBased-UploadAttack',\n",
    "          'XSS':'WebBased-XSS',\n",
    "          'BrowserHijacking':'Webbased-BrwserHijack',\n",
    "          'DictionaryBruteForce':'BruteForce-Dictionary',\n",
    "          'MITM-ArpSpoofing':'Spoofing-ARP',\n",
    "          'DNS_Spoofing':'Spoofing-DNS',\n",
    "          'Mirai-greip_flood':'Mirai-GREIP',\n",
    "          'Mirai-greeth_flood':'Mirai-Greeth',\n",
    "          'Mirai-udpplain':'Mirai-UDPPlain'\n",
    "         }"
   ]
  },
  {
   "cell_type": "code",
   "execution_count": null,
   "id": "ebf12410-0420-4120-8a1d-e830f71b057a",
   "metadata": {},
   "outputs": [],
   "source": [
    "Out_Directory = Out_Directory+\"\\\\\"\n",
    "rename_files(Out_Directory, name_mapping)"
   ]
  },
  {
   "cell_type": "markdown",
   "id": "7d2cc178-f214-412b-9bb5-124e5a215167",
   "metadata": {},
   "source": [
    "#### Extracting Featurees from PCAP files\n",
    "\n",
    "Extraction of flow-level features along with packet-level features from PCAP files"
   ]
  },
  {
   "cell_type": "code",
   "execution_count": null,
   "id": "5d91dd2b-0e2f-4988-b199-8604c111d080",
   "metadata": {},
   "outputs": [],
   "source": [
    "# Running the feature extractor on the command line as it has some issue while running in the notebook\n",
    "!Python F:/Feature_extractor_flow_packet_combined.py"
   ]
  },
  {
   "cell_type": "markdown",
   "id": "2107aaf0-aeaf-4556-8d6b-88c378ce4b35",
   "metadata": {},
   "source": [
    "#### Transformation of Extracted features into graph data object. "
   ]
  },
  {
   "cell_type": "code",
   "execution_count": null,
   "id": "a42deeef-a0df-4bfe-8053-faf5fd51fe04",
   "metadata": {},
   "outputs": [],
   "source": [
    "dir = \"F:/GNN_Project/data/\"\n",
    "Files =glob.glob(\"F:/GNN_Project/data/raw/*\")"
   ]
  },
  {
   "cell_type": "code",
   "execution_count": null,
   "id": "1c759379-9ddb-4383-ab10-76d45cbe07df",
   "metadata": {},
   "outputs": [],
   "source": [
    "## Dictionary for classifying Classes and Assigning them Class number for reference\n",
    "\n",
    "Dict_x = {'Benign': 0 , \n",
    "          'DDos-AckFrg': 1, \n",
    "          'DDos-UDPFlood': 2,\n",
    "         'DDos-SlowLoris': 3,\n",
    "         'DDos-ICMPFlood': 4,\n",
    "         'DDos-RSTFIN': 5,\n",
    "         'DDos-PSHACK': 6,\n",
    "         'DDos-HTTPFlood': 7,\n",
    "         'DDos-UDPFrg' : 8,\n",
    "         'DDos-ICMPFrg': 9,\n",
    "         'DDos-TCPFlood': 10,\n",
    "         'DDos-SYNFlood': 11,\n",
    "         'DDos-SynonymousIPFlood' : 12,\n",
    "          'Dos-TCPFlood': 13,\n",
    "          'Dos-HTTPFlood': 14,\n",
    "          'Dos-SYNFlood': 14,\n",
    "          'Dos-UDPFlood': 15,\n",
    "          'Recon-PingSweep':16,\n",
    "          'Recon-OSScan':17,\n",
    "          'Recon-VulScan': 18,\n",
    "          'Recon-PortScan':19,\n",
    "          'Recon-HostDisc':20,\n",
    "          'WebBased-SqlInject': 21,\n",
    "          'WebBased-CmmdInject':22,\n",
    "          'WebBased-BckdoorMalware':23,\n",
    "          'WebBased-UploadAttack': 24,\n",
    "          'WebBased-XSS':25,\n",
    "          'Webbased-BrwserHijack':26,\n",
    "          'BruteForce-Dictionary': 27,\n",
    "          'Spoofing-ARP':28,\n",
    "          'Spoofing-DNS':29,\n",
    "          'Mirai-GREIP':30,\n",
    "          'Mirai-Greeth':31,\n",
    "          'Mirai-UDPPlain':32\n",
    "         }\n"
   ]
  },
  {
   "cell_type": "code",
   "execution_count": null,
   "id": "0ee597fd-cbfd-4e7a-967c-63fad1b93aa1",
   "metadata": {},
   "outputs": [],
   "source": [
    "data = NIDSDataset(root=dir, label_dict=Dict_x, filename=Files, skip_processing=False)"
   ]
  }
 ],
 "metadata": {
  "kernelspec": {
   "display_name": "Python 3 (ipykernel)",
   "language": "python",
   "name": "python3"
  },
  "language_info": {
   "codemirror_mode": {
    "name": "ipython",
    "version": 3
   },
   "file_extension": ".py",
   "mimetype": "text/x-python",
   "name": "python",
   "nbconvert_exporter": "python",
   "pygments_lexer": "ipython3",
   "version": "3.10.13"
  }
 },
 "nbformat": 4,
 "nbformat_minor": 5
}
